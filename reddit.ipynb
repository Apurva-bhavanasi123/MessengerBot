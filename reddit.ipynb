{
  "nbformat": 4,
  "nbformat_minor": 0,
  "metadata": {
    "colab": {
      "name": "reddit.ipynb",
      "provenance": [],
      "authorship_tag": "ABX9TyPCFZsNIdKJuekN+FhrgtkF",
      "include_colab_link": true
    },
    "kernelspec": {
      "name": "python3",
      "display_name": "Python 3"
    }
  },
  "cells": [
    {
      "cell_type": "markdown",
      "metadata": {
        "id": "view-in-github",
        "colab_type": "text"
      },
      "source": [
        "<a href=\"https://colab.research.google.com/github/Apurva-bhavanasi123/MessengerBot/blob/master/reddit.ipynb\" target=\"_parent\"><img src=\"https://colab.research.google.com/assets/colab-badge.svg\" alt=\"Open In Colab\"/></a>"
      ]
    },
    {
      "cell_type": "code",
      "metadata": {
        "id": "oGOLiEvpbkpb",
        "colab_type": "code",
        "colab": {}
      },
      "source": [
        "!pip install -q praw"
      ],
      "execution_count": 0,
      "outputs": []
    },
    {
      "cell_type": "code",
      "metadata": {
        "id": "Sp2-bBZOcZ5p",
        "colab_type": "code",
        "colab": {}
      },
      "source": [
        "import praw\n"
      ],
      "execution_count": 0,
      "outputs": []
    },
    {
      "cell_type": "code",
      "metadata": {
        "id": "prd8DSjFceAJ",
        "colab_type": "code",
        "colab": {}
      },
      "source": [
        "reddit = praw.Reddit(client_id='3Nl9Q_a8GR0p_g',\n",
        "                     client_secret='2R4HP3mzTKKOHgjG5Ztas99IW20',\n",
        "                     user_agent='sportsapp')\n"
      ],
      "execution_count": 0,
      "outputs": []
    },
    {
      "cell_type": "code",
      "metadata": {
        "id": "MFOGD5Smch7X",
        "colab_type": "code",
        "colab": {}
      },
      "source": [
        "hot_posts = reddit.subreddit('NFL').hot(limit=10)"
      ],
      "execution_count": 0,
      "outputs": []
    },
    {
      "cell_type": "code",
      "metadata": {
        "id": "MTrMWJQNclmC",
        "colab_type": "code",
        "colab": {
          "base_uri": "https://localhost:8080/",
          "height": 213
        },
        "outputId": "cd744174-64e0-480f-8a53-19b87f1d0758"
      },
      "source": [
        "for post in hot_posts:\n",
        "    print(post.title)"
      ],
      "execution_count": 7,
      "outputs": [
        {
          "output_type": "stream",
          "text": [
            "Talko Tuesday\n",
            "r/NFL, Covid-19,and You\n",
            "[Dragon] The Bengals are releasing CB Dre Kirkpatrick, per sources.\n",
            "Duron Harmon says Belichick was upfront with him about the reason for trade: “[He] told me, ‘Look, it’s just at the point where we have to make some moves and we just paid Dev; it’s just going to be really tough to do anything, or get anything done in free agency if we don’t do this.’”\n",
            "[Ngakoue] Let’s agree to disagree . Why hold a man from taking care of his family. It’s obvious my time is up in my current situation. Let’s both move on @Jaguars 🏁\n",
            "[Garafolo] The Jaguars have heard from multiple interested teams about a possible trade for DE Yannick Ngakoue, who turns 25 today. The Jags value him and won’t give him away for little return but it’ll be interesting to see how this plays out as we draw closer to the draft.\n",
            "[Deion Sanders on his reaction to the NYG attempting to give him a pre-draft written exam] I said, ‘Excuse me, what pick do you have in the draft?’ They said, ’10th pick.’ I said, ‘I’ll be gone before then; I ain’t got time for this.’ And I left.\n",
            "Sean Payton on Taysom Hill: “First and foremost, we still view him as a quarterback. We spent a lot of time this offseason discussing our vision for him this season at quarterback...I think Taysom sees himself as being a starting quarterback in this league, and we do too.”\n",
            "[kmoxnews] Joe Buck says some people have sent him NSFW videos to call play-by-play of: \"I've had a couple of submissions from let's say, a man and a woman, that just didn't seem appropriate to put my voice to in this stage of my life.\" – @Buck @KMOXSports”\n",
            "In his career Adam Vinatieri kicked somewhere between 20.19 miles and 23.26 miles. If his foot was a hand and the space between goal posts was an eligible receiver's hands that would place him somewhere between 27th and 19th all time in passing yards.\n"
          ],
          "name": "stdout"
        }
      ]
    },
    {
      "cell_type": "code",
      "metadata": {
        "id": "TZOOk-ZdcnZ1",
        "colab_type": "code",
        "colab": {}
      },
      "source": [
        "import pandas as pd\n"
      ],
      "execution_count": 0,
      "outputs": []
    },
    {
      "cell_type": "code",
      "metadata": {
        "id": "PuGnLS-7csEZ",
        "colab_type": "code",
        "colab": {
          "base_uri": "https://localhost:8080/",
          "height": 1000
        },
        "outputId": "dfedeb62-d5b5-4fef-e828-ba3f406a5612"
      },
      "source": [
        "posts = []\n",
        "ml_subreddit = reddit.subreddit('NFL')\n",
        "for post in ml_subreddit.hot(limit=10):\n",
        "    posts.append([post.title, post.score, post.id, post.subreddit, post.url, post.num_comments, post.selftext, post.created])\n",
        "posts = pd.DataFrame(posts,columns=['title', 'score', 'id', 'subreddit', 'url', 'num_comments', 'body', 'created'])\n",
        "posts"
      ],
      "execution_count": 9,
      "outputs": [
        {
          "output_type": "execute_result",
          "data": {
            "text/html": [
              "<div>\n",
              "<style scoped>\n",
              "    .dataframe tbody tr th:only-of-type {\n",
              "        vertical-align: middle;\n",
              "    }\n",
              "\n",
              "    .dataframe tbody tr th {\n",
              "        vertical-align: top;\n",
              "    }\n",
              "\n",
              "    .dataframe thead th {\n",
              "        text-align: right;\n",
              "    }\n",
              "</style>\n",
              "<table border=\"1\" class=\"dataframe\">\n",
              "  <thead>\n",
              "    <tr style=\"text-align: right;\">\n",
              "      <th></th>\n",
              "      <th>title</th>\n",
              "      <th>score</th>\n",
              "      <th>id</th>\n",
              "      <th>subreddit</th>\n",
              "      <th>url</th>\n",
              "      <th>num_comments</th>\n",
              "      <th>body</th>\n",
              "      <th>created</th>\n",
              "    </tr>\n",
              "  </thead>\n",
              "  <tbody>\n",
              "    <tr>\n",
              "      <th>0</th>\n",
              "      <td>Talko Tuesday</td>\n",
              "      <td>9</td>\n",
              "      <td>fsfhnd</td>\n",
              "      <td>nfl</td>\n",
              "      <td>https://www.reddit.com/r/nfl/comments/fsfhnd/t...</td>\n",
              "      <td>212</td>\n",
              "      <td>Welcome to today's open thread, where /r/nfl u...</td>\n",
              "      <td>1.585699e+09</td>\n",
              "    </tr>\n",
              "    <tr>\n",
              "      <th>1</th>\n",
              "      <td>r/NFL, Covid-19,and You</td>\n",
              "      <td>354</td>\n",
              "      <td>fq7ifu</td>\n",
              "      <td>nfl</td>\n",
              "      <td>https://www.reddit.com/r/nfl/comments/fq7ifu/r...</td>\n",
              "      <td>102</td>\n",
              "      <td>Obviously times are very unique right now. We ...</td>\n",
              "      <td>1.585377e+09</td>\n",
              "    </tr>\n",
              "    <tr>\n",
              "      <th>2</th>\n",
              "      <td>[Dragon] The Bengals are releasing CB Dre Kirk...</td>\n",
              "      <td>1389</td>\n",
              "      <td>fscxiz</td>\n",
              "      <td>nfl</td>\n",
              "      <td>https://twitter.com/TheTylerDragon/status/1244...</td>\n",
              "      <td>166</td>\n",
              "      <td></td>\n",
              "      <td>1.585690e+09</td>\n",
              "    </tr>\n",
              "    <tr>\n",
              "      <th>3</th>\n",
              "      <td>Duron Harmon says Belichick was upfront with h...</td>\n",
              "      <td>779</td>\n",
              "      <td>fsdjzm</td>\n",
              "      <td>nfl</td>\n",
              "      <td>https://www.nbcsports.com/boston/patriots/how-...</td>\n",
              "      <td>106</td>\n",
              "      <td></td>\n",
              "      <td>1.585693e+09</td>\n",
              "    </tr>\n",
              "    <tr>\n",
              "      <th>4</th>\n",
              "      <td>[Ngakoue] Let’s agree to disagree . Why hold a...</td>\n",
              "      <td>657</td>\n",
              "      <td>fsdaoe</td>\n",
              "      <td>nfl</td>\n",
              "      <td>https://twitter.com/YannickNgakoue/status/1244...</td>\n",
              "      <td>259</td>\n",
              "      <td></td>\n",
              "      <td>1.585692e+09</td>\n",
              "    </tr>\n",
              "    <tr>\n",
              "      <th>5</th>\n",
              "      <td>[Garafolo] The Jaguars have heard from multipl...</td>\n",
              "      <td>407</td>\n",
              "      <td>fscqx3</td>\n",
              "      <td>nfl</td>\n",
              "      <td>https://twitter.com/MikeGarafolo/status/124497...</td>\n",
              "      <td>121</td>\n",
              "      <td></td>\n",
              "      <td>1.585689e+09</td>\n",
              "    </tr>\n",
              "    <tr>\n",
              "      <th>6</th>\n",
              "      <td>[Deion Sanders on his reaction to the NYG atte...</td>\n",
              "      <td>12404</td>\n",
              "      <td>fryzzf</td>\n",
              "      <td>nfl</td>\n",
              "      <td>https://ftw.usatoday.com/2017/03/deion-sanders...</td>\n",
              "      <td>803</td>\n",
              "      <td></td>\n",
              "      <td>1.585630e+09</td>\n",
              "    </tr>\n",
              "    <tr>\n",
              "      <th>7</th>\n",
              "      <td>Sean Payton on Taysom Hill: “First and foremos...</td>\n",
              "      <td>326</td>\n",
              "      <td>fsdg1g</td>\n",
              "      <td>nfl</td>\n",
              "      <td>https://profootballtalk.nbcsports.com/2020/03/...</td>\n",
              "      <td>95</td>\n",
              "      <td></td>\n",
              "      <td>1.585692e+09</td>\n",
              "    </tr>\n",
              "    <tr>\n",
              "      <th>8</th>\n",
              "      <td>[kmoxnews] Joe Buck says some people have sent...</td>\n",
              "      <td>4910</td>\n",
              "      <td>frzlmn</td>\n",
              "      <td>nfl</td>\n",
              "      <td>https://twitter.com/kmoxnews/status/1244731625...</td>\n",
              "      <td>221</td>\n",
              "      <td></td>\n",
              "      <td>1.585632e+09</td>\n",
              "    </tr>\n",
              "    <tr>\n",
              "      <th>9</th>\n",
              "      <td>In his career Adam Vinatieri kicked somewhere ...</td>\n",
              "      <td>145</td>\n",
              "      <td>fsec27</td>\n",
              "      <td>nfl</td>\n",
              "      <td>https://www.reddit.com/r/nfl/comments/fsec27/i...</td>\n",
              "      <td>24</td>\n",
              "      <td>Otherwise known as 35,538 to 40,939 yards.\\n\\n...</td>\n",
              "      <td>1.585695e+09</td>\n",
              "    </tr>\n",
              "  </tbody>\n",
              "</table>\n",
              "</div>"
            ],
            "text/plain": [
              "                                               title  ...       created\n",
              "0                                      Talko Tuesday  ...  1.585699e+09\n",
              "1                            r/NFL, Covid-19,and You  ...  1.585377e+09\n",
              "2  [Dragon] The Bengals are releasing CB Dre Kirk...  ...  1.585690e+09\n",
              "3  Duron Harmon says Belichick was upfront with h...  ...  1.585693e+09\n",
              "4  [Ngakoue] Let’s agree to disagree . Why hold a...  ...  1.585692e+09\n",
              "5  [Garafolo] The Jaguars have heard from multipl...  ...  1.585689e+09\n",
              "6  [Deion Sanders on his reaction to the NYG atte...  ...  1.585630e+09\n",
              "7  Sean Payton on Taysom Hill: “First and foremos...  ...  1.585692e+09\n",
              "8  [kmoxnews] Joe Buck says some people have sent...  ...  1.585632e+09\n",
              "9  In his career Adam Vinatieri kicked somewhere ...  ...  1.585695e+09\n",
              "\n",
              "[10 rows x 8 columns]"
            ]
          },
          "metadata": {
            "tags": []
          },
          "execution_count": 9
        }
      ]
    },
    {
      "cell_type": "code",
      "metadata": {
        "id": "woXc1D1LcuiR",
        "colab_type": "code",
        "colab": {
          "base_uri": "https://localhost:8080/",
          "height": 1000
        },
        "outputId": "66219e65-cbb3-414a-91c7-23280b255d34"
      },
      "source": [
        "submission = reddit.submission(id=\"fscxiz\")\n",
        "from praw.models import MoreComments\n",
        "for top_level_comment in submission.comments:\n",
        "    if isinstance(top_level_comment, MoreComments):\n",
        "        continue\n",
        "    print(top_level_comment.body)"
      ],
      "execution_count": 10,
      "outputs": [
        {
          "output_type": "stream",
          "text": [
            "Guy absolutely loved being in Cincy and definitely played hard. Whoever picks him up may be happy if he's signed for cheap. Has a lot of PI's and gets burned semi-regularly. Not my favorite Bengal to watch but, you can't say he didn't care for whatever that's worth.\n",
            "They forgetting bout Dre?\n",
            "Dre Kirkpatrick, you can get your ass kicked.\n",
            "Damn. I’m really going to miss seeing him get burnt play after play, and celebrating when the QB overthrows the guy like he was the one who did something. Had such high hopes for him. Maybe a change of scenery is all that’s needed\n",
            "With the team for 8 years as a reasonably good starter. Never a world beater, but solid. You can ask for more for a first rounder, but its hard to call him a bust. Hope the best for him.\n",
            "He got hurt right? So he'll come cheap plus he played for Zimmer and knows the scheme...Rick please!\n",
            "Come\n",
            "To Dallas. If I’m not mistaken I think dix and Kirkpatrick already played together we bama . Unsure of the years they were each there\n",
            "Guessing he ends up in Minny with Zimmer.\n",
            "*Waves arms above head to clearly indicate there was no pass interference*\n",
            "\n",
            "\n",
            "\n",
            "Pass interference. Defense, number #27. Half the distance to the goal line, first down Pittsburgh. Timeout Cincinnati.\n",
            "I have a weird semi-soft spot for Dre because he came out of college the year I really started watching the Combine obsessively. I did so because Trumaine Johnson was coming out of Montana and I really wanted to track his path to the draft but it planted this seed that leads to me doing like several mock drafts a day in 2020.\n",
            "\n",
            "I expect to see the Raiders rumored to be interested in Dre with Pauly G as DC still and the gaping hole at CB. He would definitely have to come cheap, though. We have plenty of little contracts we can get rid of to make room but I'm not sure who he would take priority over.\n",
            "Honestly this really sucks on a personal level because he loved Cincinnati and the team. But effort and passion for success can only take you so far in the NFL. He was an extremely inconsistent player at best, downright bad at his worst. His only consistency was in getting burned on poor reads, and giving up pass interference penalties. He wasn’t a good player for us.\n",
            "\n",
            "He has severe issues with defensive discipline and was a major liability to our defense. His desire to lead and his dedication to the team were appreciated but ultimately nowhere close to enough for us to be competent defensively. I could see him succeeding in a place like New England where discipline is extreme, but we never would’ve been able to make him a successful player.\n",
            "\n",
            "This sucks on a personal level, but sorry not sorry.\n",
            "If you want to watch tape on Dre Kirkpatrick just look up Leveon Bell's highlight reel as a Steeler.\n",
            "\n",
            "[The fact that this even exists](https://youtu.be/EKOVoYjSVrA)\n",
            "CAP SPACE TIME!!!!!!!!!!!\n",
            "He will be sorely missed by Ben\n",
            "FINALLY.\n",
            "Think he would sign with Chiefs for $127?\n",
            "I like him as a competitor. Good size and physical. He struggles against #1 WRs. He'd be a great fit on a team where he could guard the opposing teams #2 guy.\n",
            "I’m okay with this!\n",
            "I forgot about Dre.\n",
            "Would $177 and all-he-can-eat KC Joe's BBQ be enough to sign him?\n",
            "Bengals fans, is this expected or unexpected? I always thought, as someone who doesn't really follow the Bengals, that Kirkpatrick and Dennard were two decent corners.\n",
            "One time I saw him at a speedway and he asked the worker if there were any more types of Campbell's soup in the back or if they only had the two types that were on the shelf\n",
            "I'm probably the only guy who liked Dre.\n",
            "\n",
            "He had some untimely penalties and he didn't have the best measurables, but he wasn't as much of a liability as he's being discussed here. He's gotten better and more controlled as he has aged. Plus, we play the Steelers twice per year (the team that gets the most beneficial yards from penalties in the league).\n",
            "\n",
            "Teams couldn't target him because he's not a bad corner, he would just get a penalty at some really bad times. I can accept that to a degree. He's about 90% of a Josh Norman... that's probably the best comparison I can come up with.\n",
            "\n",
            "As far as penalties per year:\n",
            "2015- 13\n",
            "\n",
            "2016- 9 \n",
            "\n",
            "2017- 7 (1 declined)\n",
            "\n",
            "2018- 6 (1 declined)\n",
            "\n",
            "2019- 2\n",
            "damn, who am I going to blame all our defensive woes on now?\n",
            "Dude was honestly awful. I swore off giving a shit about the Bengals until Mike Brown is dead a few years ago, but I still catch games here and there if the wife is watching and I've never seen a CB look more lost than him during any given play.\n",
            "Maybe move to safety\n",
            "He can come to KC for.... $177 bucks\n",
            "Dre is from my hometown. Seems like a decent guy. Hope he finds a team.\n",
            "Hey Jets, here’s another CB you can overpay for\n",
            "Please Zimmer!!!\n",
            "ITT: Bengals fans saying he got burned on every play and got PI calls\n",
            "\n",
            "Also ITT: Fans of every single team saying he'll fit right in\n",
            "\n",
            "Playing DB is very hard lol\n",
            "Thank the lord\n",
            "Welcome to sota I guess 🙄\n"
          ],
          "name": "stdout"
        }
      ]
    },
    {
      "cell_type": "code",
      "metadata": {
        "id": "USXUGzBAeZ4V",
        "colab_type": "code",
        "colab": {}
      },
      "source": [
        ""
      ],
      "execution_count": 0,
      "outputs": []
    }
  ]
}